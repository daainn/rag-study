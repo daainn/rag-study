{
 "cells": [
  {
   "cell_type": "code",
   "execution_count": null,
   "metadata": {
    "vscode": {
     "languageId": "plaintext"
    }
   },
   "outputs": [],
   "source": [
    "# 필요한 라이브러리 설치\n",
    "!pip install langchain openai faiss-cpu networkx matplotlib spacy tiktoken\n"
   ]
  },
  {
   "cell_type": "code",
   "execution_count": null,
   "metadata": {
    "vscode": {
     "languageId": "plaintext"
    }
   },
   "outputs": [],
   "source": [
    "import spacy\n",
    "import networkx as nx\n",
    "import matplotlib.pyplot as plt\n",
    "from langchain.vectorstores import FAISS\n",
    "from langchain.embeddings.openai import OpenAIEmbeddings\n",
    "from langchain.text_splitter import CharacterTextSplitter\n",
    "from langchain.docstore.document import Document\n",
    "from langchain.chat_models import ChatOpenAI\n"
   ]
  },
  {
   "cell_type": "code",
   "execution_count": null,
   "id": "11a2b3ac",
   "metadata": {
    "vscode": {
     "languageId": "plaintext"
    }
   },
   "outputs": [],
   "source": [
    "# SpaCy로 NER을 활용해 개체 추출\n",
    "nlp = spacy.load(\"en_core_web_sm\")\n",
    "\n",
    "# 샘플 문서\n",
    "docs = [\n",
    "    \"Apple was founded by Steve Jobs in California.\",\n",
    "    \"Steve Jobs created the iPhone.\",\n",
    "    \"iPhone is a popular smartphone product.\"\n",
    "]\n",
    "\n",
    "# 1. 문서 → Chunk\n",
    "text_splitter = CharacterTextSplitter(chunk_size=50, chunk_overlap=0)\n",
    "documents = [Document(page_content=chunk) for doc in docs for chunk in text_splitter.split_text(doc)]\n",
    "\n",
    "# 2. 벡터 DB 구축\n",
    "embeddings = OpenAIEmbeddings()  # OPENAI_API_KEY 필요\n",
    "vectorstore = FAISS.from_documents(documents, embeddings)\n",
    "retriever = vectorstore.as_retriever()\n",
    "\n",
    "# 3. 개체 추출 → Graph 생성\n",
    "G = nx.DiGraph()\n",
    "for doc in docs:\n",
    "    ents = [ent.text for ent in nlp(doc).ents if ent.label_ in [\"PERSON\", \"ORG\", \"PRODUCT\", \"GPE\"]]\n",
    "    if len(ents) >= 2:\n",
    "        for i in range(len(ents)-1):\n",
    "            G.add_edge(ents[i], ents[i+1])"
   ]
  },
  {
   "cell_type": "code",
   "execution_count": null,
   "id": "8a2d7070",
   "metadata": {
    "vscode": {
     "languageId": "plaintext"
    }
   },
   "outputs": [],
   "source": [
    "# 그래프 시각화\n",
    "plt.figure(figsize=(8, 6))\n",
    "pos = nx.spring_layout(G, seed=42)\n",
    "nx.draw(G, pos, with_labels=True, node_size=2000, node_color=\"lightblue\", arrowsize=20, font_size=12)\n",
    "plt.show()\n"
   ]
  },
  {
   "cell_type": "code",
   "execution_count": null,
   "id": "d495be6e",
   "metadata": {
    "vscode": {
     "languageId": "plaintext"
    }
   },
   "outputs": [],
   "source": [
    "# 4. Graph-aware 검색 함수\n",
    "def graph_rag_query(query):\n",
    "    # 1. 벡터 검색\n",
    "    similar_docs = retriever.get_relevant_documents(query)\n",
    "    base_context = \" \".join([d.page_content for d in similar_docs])\n",
    "\n",
    "    # 2. 그래프 탐색 (질문 내 개체와 연결된 노드 추가)\n",
    "    extra_context = \"\"\n",
    "    for node in G.nodes:\n",
    "        if node.lower() in query.lower():\n",
    "            neighbors = list(G.neighbors(node))\n",
    "            extra_context += \" \".join(neighbors)\n",
    "    \n",
    "    return base_context + \" \" + extra_context\n",
    "\n",
    "\n",
    "# 5. LLM 질의응답\n",
    "llm = ChatOpenAI(model_name=\"gpt-3.5-turbo\", temperature=0)\n",
    "\n",
    "query = \"Which product was created by Steve Jobs?\"\n",
    "context = graph_rag_query(query)\n",
    "answer = llm.predict(f\"Question: {query}\\n\\nKnowledge: {context}\\n\\nAnswer:\")\n",
    "print(\"질문:\", query)\n",
    "print(\"답변:\", answer)\n"
   ]
  }
 ],
 "metadata": {
  "language_info": {
   "name": "python"
  }
 },
 "nbformat": 4,
 "nbformat_minor": 5
}
